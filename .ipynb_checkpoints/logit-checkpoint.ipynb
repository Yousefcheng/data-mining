{
 "cells": [
  {
   "cell_type": "code",
   "execution_count": null,
   "metadata": {},
   "outputs": [],
   "source": [
    "from sklearn.linear_model import LogisticRegression\n",
    " \n",
    "def colicSklearn(filetrain,filetest):\n",
    "    frTrain = open(filetrain)\n",
    "    frTest = open(filetest)\n",
    "    trainingSet = []\n",
    "    trainingLabels = []\n",
    "    testSet = []\n",
    "    testLabels = []\n",
    "    for line in frTrain.readlines():\n",
    "        currLine = line.strip().split('\\t')\n",
    "        lineArr = []\n",
    "        for i in range(len(currLine)-1):\n",
    "            lineArr.append(float(currLine[i]))\n",
    "        trainingSet.append(lineArr)\n",
    "        trainingLabels.append(float(currLine[-1]))\n",
    "    for line in frTest.readlines():\n",
    "        currLine = line.strip().split('\\t')\n",
    "        lineArr = []\n",
    "        for i in range(len(currLine)-1):\n",
    "            lineArr.append(float(currLine[i]))\n",
    "        testSet.append(lineArr)\n",
    "        testLabels.append(float(currLine[-1]))\n",
    "    classifier = LogisticRegression(solver='liblinear',max_iter=20).fit(trainingSet,trainingLabels)\n",
    "    test_accurcy = classifier.score(testSet,testLabels)*100\n",
    "    print(\"正确率为%s%%\"%test_accurcy)\n",
    " \n",
    "if __name__ == '__main__':\n",
    "    filetrain = 'horseColicTraining.txt'\n",
    "    filetest = 'horseColicTest.txt'\n",
    "    colicSklearn(filetrain,filetest)"
   ]
  }
 ],
 "metadata": {
  "kernelspec": {
   "display_name": "Python 3",
   "language": "python",
   "name": "python3"
  },
  "language_info": {
   "codemirror_mode": {
    "name": "ipython",
    "version": 3
   },
   "file_extension": ".py",
   "mimetype": "text/x-python",
   "name": "python",
   "nbconvert_exporter": "python",
   "pygments_lexer": "ipython3",
   "version": "3.7.4"
  }
 },
 "nbformat": 4,
 "nbformat_minor": 2
}
