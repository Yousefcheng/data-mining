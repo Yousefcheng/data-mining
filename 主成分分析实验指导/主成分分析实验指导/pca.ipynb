{
 "cells": [
  {
   "cell_type": "code",
   "execution_count": 6,
   "metadata": {},
   "outputs": [],
   "source": [
    "from numpy import *\n",
    "import numpy as np\n",
    "from sklearn.decomposition import PCA\n",
    "import matplotlib.pyplot as plt\n",
    "import numpy as np\n",
    "# 加载数据\n",
    "def loadDataSet(filename,delim = '\\t'):\n",
    "    fr = open(filename)\n",
    "    stringArr = [line.strip().split(delim) for line in fr.readlines()]\n",
    "    dataArr = [list(map(float,line)) for line in stringArr]\n",
    "#     print(mean(mat(dataArr)))\n",
    "    return mat(dataArr)\n",
    " \n",
    " \n",
    "def pca(dataMat,topN=999999):\n",
    "    # 形成样本矩阵，样本中心化\n",
    " \n",
    "    meanVals= mean(dataMat,axis=0)\n",
    "    meanRemoved = dataMat - meanVals\n",
    "    # 计算样本矩阵的协方差矩阵\n",
    "    covMat = cov(meanRemoved,rowvar=0)\n",
    "    #  对协方差矩阵进行特征值分解，选取最大的 p 个特征值对应的特征向量组成投影矩阵\n",
    "    eigVals,eigVects =  linalg.eig(mat(covMat))\n",
    "    #sort():对特征值矩阵排序(由小到大)     \n",
    "    #argsort():对特征值矩阵进行由小到大排序，返回对应排序后的索引\n",
    "    eigValInd = argsort(eigVals)\n",
    "    #从排序后的矩阵最后一个开始自下而上选取最大的N个特征值，返回其对应的索引\n",
    "    eigValInd = eigValInd[:-(topN+1):-1]\n",
    "    redEigVects = eigVects[:,eigValInd]\n",
    "    # 对原始样本矩阵进行投影，得到降维后的新样本矩阵\n",
    "    lowDDataMat = meanRemoved * redEigVects\n",
    "    reconMat = (lowDDataMat * redEigVects.T)+meanVals\n",
    "    return lowDDataMat,reconMat"
   ]
  },
  {
   "cell_type": "code",
   "execution_count": 7,
   "metadata": {},
   "outputs": [],
   "source": [
    "#缺失值处理函数\n",
    "def replaceNaNWithMean():\n",
    "    datMat=loadDataSet('./secom.data',' ')\n",
    "    #获取特征维度     \n",
    "    numFeat=shape(datMat)[1]\n",
    "    #遍历数据集每一个维度\n",
    "    for i in range(numFeat):\n",
    "        meanVal=mean(datMat[nonzero(~isnan(datMat[:,i].A))[0],i])\n",
    "        datMat[nonzero(isnan(datMat[:,i].A))[0],i]=meanVal\n",
    "    return datMat\n",
    "def show_picture(dataMat, reconMat):\n",
    "    fig = plt.figure()\n",
    "    ax = fig.add_subplot(111)\n",
    "    ax.scatter(dataMat[:, 0].flatten().A[0], dataMat[:, 1].flatten().A[0], marker='^', s=90,c='green')\n",
    "    ax.scatter(reconMat[:, 0].flatten().A[0], reconMat[:, 1].flatten().A[0], marker='o', s=50, c='red')\n",
    "    plt.show()\n"
   ]
  },
  {
   "cell_type": "code",
   "execution_count": 8,
   "metadata": {},
   "outputs": [
    {
     "name": "stdout",
     "output_type": "stream",
     "text": [
      "[[ 5.18389617e+03  3.02264772e+03 -6.88386243e+02 ...  4.36932721e+02\n",
      "   1.09048232e+02  5.37639954e+02]\n",
      " [ 1.86669728e+03  4.02163902e+03  1.50557353e+03 ...  1.08154052e+02\n",
      "  -2.31447780e+02 -2.74388089e+02]\n",
      " [ 3.15474165e+03  3.46198582e+03  1.85544208e+03 ...  4.07803532e+01\n",
      "  -4.03787771e+02  4.18093198e+02]\n",
      " ...\n",
      " [ 3.82121714e+03  1.57303288e+02  1.19846485e+03 ...  4.78419433e+01\n",
      "   1.73710715e+01 -1.51656937e+01]\n",
      " [ 4.27104024e+03  1.30047276e+03 -3.81634520e+02 ...  8.00295443e+01\n",
      "  -1.01895360e+00  9.57019615e+00]\n",
      " [ 3.56287329e+03  3.72760720e+03  4.18435474e+02 ...  1.44795769e+02\n",
      "   9.48838494e+01  1.09570868e+01]]\n"
     ]
    }
   ],
   "source": [
    "dataMat=replaceNaNWithMean()#将NaN替换为平均值\n",
    "meanVals=mean(dataMat,axis=0)\n",
    "meanRemoved=dataMat-meanVals #去除均值\n",
    "covMat=cov(meanRemoved,rowvar=0) #计算协方差矩阵\n",
    "eigVals,eigVects=linalg.eig(mat(covMat)) #对矩阵进行特征值分析\n",
    "lowDmat, reconMat = pca(dataMat, 20)\n",
    "np.savetxt('pca_semi', lowDmat) #将降维后的结果储存至pca_semi中\n",
    "print(lowDmat)\n"
   ]
  },
  {
   "cell_type": "code",
   "execution_count": 9,
   "metadata": {},
   "outputs": [
    {
     "name": "stdout",
     "output_type": "stream",
     "text": [
      "[0.59254058 0.24123819 0.09150014 0.02300579 0.01459192 0.00518818\n",
      " 0.00322658 0.00314677 0.0026308  0.00231307 0.00217535 0.00207282\n",
      " 0.00169084 0.00125591 0.00120353 0.00114092 0.00111115 0.00092458\n",
      " 0.00090503 0.00086145]\n"
     ]
    }
   ],
   "source": [
    "# print(shape(lowDmat))\n",
    "# print(shape(reconMat))\n",
    "pca = PCA(n_components=20)\n",
    "pca.fit(dataMat)\n",
    "print(pca.explained_variance_ratio_)\n",
    "np.savetxt('pca_var', pca.explained_variance_ratio_)"
   ]
  },
  {
   "cell_type": "code",
   "execution_count": null,
   "metadata": {},
   "outputs": [],
   "source": []
  }
 ],
 "metadata": {
  "kernelspec": {
   "display_name": "Python 3",
   "language": "python",
   "name": "python3"
  },
  "language_info": {
   "codemirror_mode": {
    "name": "ipython",
    "version": 3
   },
   "file_extension": ".py",
   "mimetype": "text/x-python",
   "name": "python",
   "nbconvert_exporter": "python",
   "pygments_lexer": "ipython3",
   "version": "3.7.3"
  }
 },
 "nbformat": 4,
 "nbformat_minor": 2
}
