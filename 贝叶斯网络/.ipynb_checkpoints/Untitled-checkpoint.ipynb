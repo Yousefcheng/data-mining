{
 "cells": [
  {
   "cell_type": "code",
   "execution_count": 5,
   "metadata": {},
   "outputs": [],
   "source": [
    "from pgmpy.factors.discrete import TabularCPD\n",
    "from pgmpy.models import BayesianModel\n",
    "from pgmpy.inference import VariableElimination"
   ]
  },
  {
   "cell_type": "code",
   "execution_count": 9,
   "metadata": {},
   "outputs": [],
   "source": [
    "student_model = BayesianModel([('D', 'G'),\n",
    "                               ('I', 'G'),\n",
    "                               ('G', 'L'),\n",
    "                               ('I', 'S')])\n",
    "grade_cpd = TabularCPD(\n",
    "    variable='G',  # 节点名称\n",
    "    variable_card=3,  # 节点取值个数\n",
    "    values=[[0.3, 0.05, 0.9, 0.5],  # 该节点的概率表\n",
    "            [0.4, 0.25, 0.08, 0.3],\n",
    "            [0.3, 0.7, 0.02, 0.2]],\n",
    "    evidence=['I', 'D'],  # 该节点的依赖节点\n",
    "    evidence_card=[2, 2]  # 依赖节点的取值个数\n",
    ")\n",
    "\n",
    "difficulty_cpd = TabularCPD(\n",
    "    variable='D',\n",
    "    variable_card=2,\n",
    "    values=[[0.6, 0.4]]\n",
    ")\n",
    "\n",
    "intel_cpd = TabularCPD(\n",
    "    variable='I',\n",
    "    variable_card=2,\n",
    "    values=[[0.7, 0.3]]\n",
    ")\n",
    "\n",
    "letter_cpd = TabularCPD(\n",
    "    variable='L',\n",
    "    variable_card=2,\n",
    "    values=[[0.1, 0.4, 0.99],\n",
    "            [0.9, 0.6, 0.01]],\n",
    "    evidence=['G'],\n",
    "    evidence_card=[3]\n",
    ")\n",
    "\n",
    "sat_cpd = TabularCPD(\n",
    "    variable='S',\n",
    "    variable_card=2,\n",
    "    values=[[0.95, 0.2],\n",
    "            [0.05, 0.8]],\n",
    "    evidence=['I'],\n",
    "    evidence_card=[2]\n",
    ")\n",
    "\n",
    "student_model.add_cpds(\n",
    "    grade_cpd,\n",
    "    difficulty_cpd,\n",
    "    intel_cpd,\n",
    "    letter_cpd,\n",
    "    sat_cpd\n",
    ")\n",
    "\n"
   ]
  },
  {
   "cell_type": "code",
   "execution_count": 10,
   "metadata": {},
   "outputs": [
    {
     "name": "stdout",
     "output_type": "stream",
     "text": [
      "[<TabularCPD representing P(G:3 | I:2, D:2) at 0x15a9cc87e48>, <TabularCPD representing P(D:2) at 0x15a9cc87d68>, <TabularCPD representing P(I:2) at 0x15a9cc87da0>, <TabularCPD representing P(L:2 | G:3) at 0x15a9cc87cf8>, <TabularCPD representing P(S:2 | I:2) at 0x15a9cc87eb8>]\n",
      "(D _|_ I, S)\n",
      "(D _|_ S | I)\n",
      "(D _|_ L | G)\n",
      "(D _|_ I | S)\n",
      "(D _|_ L, S | I, G)\n",
      "(D _|_ S | I, L)\n",
      "(D _|_ L | G, S)\n",
      "(D _|_ L | I, G, S)\n",
      "(D _|_ S | I, G, L)\n",
      "(G _|_ S | I)\n",
      "(G _|_ S | I, D)\n",
      "(G _|_ S | I, L)\n",
      "(G _|_ S | I, D, L)\n",
      "(I _|_ D)\n",
      "(I _|_ D | S)\n",
      "(I _|_ L | G)\n",
      "(I _|_ L | G, S)\n",
      "(I _|_ L | G, D)\n",
      "(I _|_ L | G, D, S)\n",
      "(L _|_ S | I)\n",
      "(L _|_ S, I, D | G)\n",
      "(L _|_ I, D | G, S)\n",
      "(L _|_ S, D | I, G)\n",
      "(L _|_ S | I, D)\n",
      "(L _|_ I, S | G, D)\n",
      "(L _|_ D | I, G, S)\n",
      "(L _|_ I | G, D, S)\n",
      "(L _|_ S | I, G, D)\n",
      "(S _|_ D)\n",
      "(S _|_ G, D, L | I)\n",
      "(S _|_ L | G)\n",
      "(S _|_ L, D | I, G)\n",
      "(S _|_ G, L | I, D)\n",
      "(S _|_ G, D | I, L)\n",
      "(S _|_ L | G, D)\n",
      "(S _|_ L | I, G, D)\n",
      "(S _|_ D | I, G, L)\n",
      "(S _|_ G | I, D, L)\n",
      "+------+------+------+------+------+\n",
      "| I    | I(0) | I(0) | I(1) | I(1) |\n",
      "+------+------+------+------+------+\n",
      "| D    | D(0) | D(1) | D(0) | D(1) |\n",
      "+------+------+------+------+------+\n",
      "| G(0) | 0.3  | 0.05 | 0.9  | 0.5  |\n",
      "+------+------+------+------+------+\n",
      "| G(1) | 0.4  | 0.25 | 0.08 | 0.3  |\n",
      "+------+------+------+------+------+\n",
      "| G(2) | 0.3  | 0.7  | 0.02 | 0.2  |\n",
      "+------+------+------+------+------+\n",
      "+------+-----+\n",
      "| D(0) | 0.6 |\n",
      "+------+-----+\n",
      "| D(1) | 0.4 |\n",
      "+------+-----+\n",
      "+------+-----+\n",
      "| I(0) | 0.7 |\n",
      "+------+-----+\n",
      "| I(1) | 0.3 |\n",
      "+------+-----+\n",
      "+------+------+------+------+\n",
      "| G    | G(0) | G(1) | G(2) |\n",
      "+------+------+------+------+\n",
      "| L(0) | 0.1  | 0.4  | 0.99 |\n",
      "+------+------+------+------+\n",
      "| L(1) | 0.9  | 0.6  | 0.01 |\n",
      "+------+------+------+------+\n",
      "+------+------+------+\n",
      "| I    | I(0) | I(1) |\n",
      "+------+------+------+\n",
      "| S(0) | 0.95 | 0.2  |\n",
      "+------+------+------+\n",
      "| S(1) | 0.05 | 0.8  |\n",
      "+------+------+------+\n"
     ]
    },
    {
     "name": "stderr",
     "output_type": "stream",
     "text": [
      "Finding Elimination Order: : 100%|█████████████████████████████████████████████████████| 2/2 [00:00<00:00, 1001.98it/s]\n",
      "Eliminating: S: 100%|██████████████████████████████████████████████████████████████████| 2/2 [00:00<00:00, 1002.70it/s]\n"
     ]
    },
    {
     "name": "stdout",
     "output_type": "stream",
     "text": [
      "+------+----------+\n",
      "| G    |   phi(G) |\n",
      "+======+==========+\n",
      "| G(0) |   0.9000 |\n",
      "+------+----------+\n",
      "| G(1) |   0.0800 |\n",
      "+------+----------+\n",
      "| G(2) |   0.0200 |\n",
      "+------+----------+\n"
     ]
    },
    {
     "name": "stderr",
     "output_type": "stream",
     "text": [
      "Finding Elimination Order: : 100%|█████████████████████████████████████████████████████| 2/2 [00:00<00:00, 1002.46it/s]\n",
      "Eliminating: S: 100%|███████████████████████████████████████████████████████████████████| 2/2 [00:00<00:00, 398.68it/s]\n"
     ]
    },
    {
     "name": "stdout",
     "output_type": "stream",
     "text": [
      "+------+----------+\n",
      "| L    |   phi(L) |\n",
      "+======+==========+\n",
      "| L(0) |   0.1418 |\n",
      "+------+----------+\n",
      "| L(1) |   0.8582 |\n",
      "+------+----------+\n"
     ]
    },
    {
     "name": "stderr",
     "output_type": "stream",
     "text": [
      "Finding Elimination Order: : 100%|█████████████████████████████████████████████████████| 2/2 [00:00<00:00, 2006.84it/s]\n",
      "Eliminating: L: 100%|███████████████████████████████████████████████████████████████████| 2/2 [00:00<00:00, 668.73it/s]\n"
     ]
    },
    {
     "name": "stdout",
     "output_type": "stream",
     "text": [
      "+------+----------+\n",
      "| S    |   phi(S) |\n",
      "+======+==========+\n",
      "| S(0) |   0.2000 |\n",
      "+------+----------+\n",
      "| S(1) |   0.8000 |\n",
      "+------+----------+\n"
     ]
    }
   ],
   "source": [
    "# 条件概率分布：\n",
    "print(student_model.get_cpds())\n",
    "# 依赖关系：\n",
    "print(student_model.get_independencies())\n",
    "\n",
    "for cpd in student_model.get_cpds():\n",
    "    print(cpd)\n",
    "\n",
    "# 贝叶斯推断\n",
    "student_infer = VariableElimination(student_model)\n",
    "\n",
    "# 成绩的推荐结果\n",
    "prob_G = student_infer.query(\n",
    "    variables=['G'],\n",
    "    evidence={'I': 1, 'D': 0})\n",
    "print(prob_G)\n",
    "# 推荐信的推荐结果\n",
    "prob_L = student_infer.query(\n",
    "    variables=['L'],\n",
    "    evidence={'I': 1, 'D': 0})\n",
    "print(prob_L)\n",
    "# SAT的推断结果\n",
    "prob_S = student_infer.query(\n",
    "    variables=['S'],\n",
    "    evidence={'I': 1, 'D': 0})\n",
    "print(prob_S)"
   ]
  },
  {
   "cell_type": "code",
   "execution_count": null,
   "metadata": {},
   "outputs": [],
   "source": []
  }
 ],
 "metadata": {
  "kernelspec": {
   "display_name": "Python 3",
   "language": "python",
   "name": "python3"
  },
  "language_info": {
   "codemirror_mode": {
    "name": "ipython",
    "version": 3
   },
   "file_extension": ".py",
   "mimetype": "text/x-python",
   "name": "python",
   "nbconvert_exporter": "python",
   "pygments_lexer": "ipython3",
   "version": "3.7.3"
  }
 },
 "nbformat": 4,
 "nbformat_minor": 2
}
